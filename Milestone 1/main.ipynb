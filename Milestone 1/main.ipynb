{
 "cells": [
  {
   "cell_type": "code",
   "execution_count": 64,
   "id": "aaea88fb-991f-462e-b202-3151dba915f5",
   "metadata": {},
   "outputs": [],
   "source": [
    "import numpy as np\n",
    "import pandas as pd\n",
    "import matplotlib.pyplot as plt\n",
    "import seaborn as sns"
   ]
  },
  {
   "cell_type": "code",
   "execution_count": 65,
   "id": "fdaf77ee-6911-4f80-aa0f-455a35af59a7",
   "metadata": {},
   "outputs": [],
   "source": [
    "cases_train = pd.read_csv('data/cases_2021_train.csv')\n",
    "cases_test = pd.read_csv('data/cases_2021_test.csv')\n",
    "location = pd.read_csv('data/location_2021.csv')"
   ]
  },
  {
   "cell_type": "code",
   "execution_count": 66,
   "id": "4b6779cb-58e8-489c-84cd-8f08bbfabdff",
   "metadata": {},
   "outputs": [],
   "source": [
    "location_processed = location.replace({'Country_Region': { 'US' : 'United States', 'Korea, South' : 'South Korea','Taiwan*': 'Taiwan'}})"
   ]
  },
  {
   "cell_type": "code",
   "execution_count": 67,
   "id": "a984fc41-a88e-4c4a-825a-48f0efceb8ae",
   "metadata": {},
   "outputs": [],
   "source": [
    "location_processed = location_processed.groupby(['Province_State', 'Country_Region']).agg({'Confirmed':'sum', 'Deaths':'sum', 'Recovered':'sum', 'Active':'sum', 'Incident_Rate':'mean', 'Case_Fatality_Ratio':'mean'}).reset_index()"
   ]
  },
  {
   "cell_type": "code",
   "execution_count": 68,
   "id": "164f12da-4941-4378-9df5-f26a2f111175",
   "metadata": {},
   "outputs": [],
   "source": [
    "location_processed = location_processed.rename(columns={'Country_Region': 'country', 'Province_State': 'province'})"
   ]
  },
  {
   "cell_type": "code",
   "execution_count": 69,
   "id": "4ba8655e-c587-43fe-8b8c-6a7d2611c4aa",
   "metadata": {},
   "outputs": [],
   "source": [
    "train_processed = pd.merge(cases_train, location_processed, on=[\"province\", \"country\"])\n",
    "test_processed = pd.merge(cases_test, location_processed, on=[\"province\", \"country\"])"
   ]
  },
  {
   "cell_type": "code",
   "execution_count": 70,
   "id": "2d55a363-2afe-4c63-a11a-ece1e24b94bc",
   "metadata": {},
   "outputs": [],
   "source": [
    "test_processed.to_csv('results/cases_2021_test_processed.csv',index = False)\n",
    "train_processed.to_csv('results/cases_2021_train_processed.csv',index = False)\n",
    "location_processed.to_csv('results/location_2021_processed.csv',index = False)"
   ]
  },
  {
   "cell_type": "code",
   "execution_count": 72,
   "id": "a83d401a-e4fd-4804-9682-4895abe5b92f",
   "metadata": {},
   "outputs": [
    {
     "data": {
      "text/plain": [
       "97542"
      ]
     },
     "execution_count": 72,
     "metadata": {},
     "output_type": "execute_result"
    }
   ],
   "source": [
    "len(test_processed)"
   ]
  },
  {
   "cell_type": "code",
   "execution_count": null,
   "id": "c9699fed-1d92-4e16-8040-99b28c31eb31",
   "metadata": {},
   "outputs": [],
   "source": []
  }
 ],
 "metadata": {
  "kernelspec": {
   "display_name": "Python 3 (ipykernel)",
   "language": "python",
   "name": "python3"
  },
  "language_info": {
   "codemirror_mode": {
    "name": "ipython",
    "version": 3
   },
   "file_extension": ".py",
   "mimetype": "text/x-python",
   "name": "python",
   "nbconvert_exporter": "python",
   "pygments_lexer": "ipython3",
   "version": "3.9.7"
  }
 },
 "nbformat": 4,
 "nbformat_minor": 5
}
